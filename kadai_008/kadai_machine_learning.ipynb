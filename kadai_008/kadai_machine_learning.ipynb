{
  "cells": [
    {
      "cell_type": "code",
      "execution_count": 4,
      "metadata": {
        "colab": {
          "base_uri": "https://localhost:8080/"
        },
        "id": "kpERq8yLnBMT",
        "outputId": "81f64f7d-6ed8-4931-a498-a16a69929652"
      },
      "outputs": [
        {
          "data": {
            "text/plain": [
              "0.9629629629629629"
            ]
          },
          "execution_count": 4,
          "metadata": {},
          "output_type": "execute_result"
        }
      ],
      "source": [
        "# scikit-learnで予測モデルを変更することで評価結果が変わることを確認しよう\n",
        "\n",
        "import pandas as pd\n",
        "from sklearn.datasets import load_wine\n",
        "from sklearn.model_selection import train_test_split\n",
        "# 予測モデルとしてランダムフォレストクラスをインポート\n",
        "from sklearn.ensemble import RandomForestClassifier\n",
        "# 正解率の関数をインポート\n",
        "from sklearn.metrics import accuracy_score\n",
        "\n",
        "# ワインの成分とワイン種別のデータである「Wine recognition dataset」を読み込む\n",
        "dataset = load_wine()\n",
        "\n",
        "# データを表示するためのpandasのデータフレームを作成する。\n",
        "df = pd.DataFrame(data=dataset.data, columns=dataset.feature_names)\n",
        "\n",
        "# 上記のデータフレームにワインの種類を追加\n",
        "df['category'] = dataset.target\n",
        "#df.head()\n",
        "\n",
        "# 説明変数と目的変数を設定\n",
        "X = dataset.data\n",
        "y = dataset.target\n",
        "\n",
        "# サンプルデータを学習データとテストデータに分割する\n",
        "# 4つの要素をそれぞれ、変数X_train, X_test, y_train, y_testに代入する\n",
        "X_train, X_test, y_train, y_test = train_test_split(X, y, test_size=0.3, random_state=5)\n",
        "#print(X.shape, X_train.shape, X_test.shape, y.shape, y_train.shape, y_test.shape)\n",
        "\n",
        "# ランダムフォレストクラスをインスタンス化し、modelという変数に代入する\n",
        "model = RandomForestClassifier(random_state=3)\n",
        "\n",
        "# モデルの学習\n",
        "model.fit(X_train, y_train)\n",
        "\n",
        "# 予測モデルの評価\n",
        "y_pred = model.predict(X_test)\n",
        "#print(f\"y_pred = {y_pred}\")\n",
        "\n",
        "# 正解率を確認\n",
        "accuracy_score(y_test, y_pred)"
      ]
    }
  ],
  "metadata": {
    "colab": {
      "provenance": []
    },
    "kernelspec": {
      "display_name": "Python 3",
      "name": "python3"
    },
    "language_info": {
      "name": "python"
    }
  },
  "nbformat": 4,
  "nbformat_minor": 0
}
